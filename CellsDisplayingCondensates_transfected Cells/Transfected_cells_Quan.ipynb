{
 "cells": [
  {
   "cell_type": "code",
   "execution_count": 1,
   "metadata": {},
   "outputs": [],
   "source": [
    "import imagej\n",
    "import pandas as pd\n",
    "from scyjava import jimport, config\n",
    "from glob import glob\n",
    "import os\n",
    "import re\n",
    "import xlsxwriter\n",
    "from openpyxl import Workbook\n",
    "from openpyxl import load_workbook"
   ]
  },
  {
   "cell_type": "code",
   "execution_count": 2,
   "metadata": {
    "collapsed": false,
    "jupyter": {
     "outputs_hidden": false
    }
   },
   "outputs": [
    {
     "name": "stdout",
     "output_type": "stream",
     "text": [
      "2.14.0/1.54f\n"
     ]
    }
   ],
   "source": [
    "if 'ij' in locals() and ij is not None:\n",
    "    ij.dispose()\n",
    "plugins_dir = r'C:\\Users\\Leonard Piroska\\Fiji\\Fiji.app\\plugins'\n",
    "config.add_option(f'-Dplugins.dir={plugins_dir}')\n",
    "ij = imagej.init(r'C:\\Users\\Leonard Piroska\\Fiji\\Fiji.app', mode=imagej.Mode.INTERACTIVE)\n",
    "print(ij.getVersion())\n",
    "ij.ui().showUI()\n",
    "\n",
    "#import imageJ\n",
    "ImagePlus=jimport('ij.ImagePlus')\n",
    "IJ = jimport('ij.IJ')\n",
    "FileSaver = jimport('ij.io.FileSaver')\n",
    "WaitForUserDialog = jimport('ij.gui.WaitForUserDialog')\n",
    "ChannelSplitter = jimport('ij.plugin.ChannelSplitter')\n",
    "ImageCalculator = jimport('ij.plugin.ImageCalculator')\n",
    "NonBlockingGenericDialog = jimport('ij.gui.NonBlockingGenericDialog')\n",
    "PointRoi = jimport('ij.gui.PointRoi')\n",
    "GenericDialog = jimport('ij.gui.GenericDialog')\n",
    "RoiManager = jimport('ij.plugin.frame.RoiManager')\n",
    "WindowManager = jimport('ij.WindowManager')\n",
    "Duplicator = jimport('ij.plugin.Duplicator')\n",
    "ResultsTable = jimport('ij.measure.ResultsTable')\n",
    "ImageStack = jimport('ij.ImageStack')\n",
    "GaussianBlur = jimport('ij.plugin.filter.GaussianBlur')"
   ]
  },
  {
   "cell_type": "code",
   "execution_count": null,
   "metadata": {
    "collapsed": false,
    "jupyter": {
     "outputs_hidden": false
    }
   },
   "outputs": [],
   "source": [
    "#Search for all file.tif in the indicated folder -- copy-paste your path\n",
    "path = r\"D:\\Quan\\microscope\\240412\\2# emGFP_PMLwt_500ng\"\n",
    "files_paths = glob(os.path.join(path, \"**\", \"*.tif\"), recursive=True)\n",
    "dre = re.compile(r'(\\d+)')\n",
    "files_paths.sort(key=lambda l: [int(s) if s.isdigit() else s.lower() for s in re.split(dre, l)])\n",
    "e=0\n",
    "\n",
    "#definition of output\n",
    "df_results = pd.DataFrame(columns=['expmt', 'Nb of cells', 'Nb of transfected cells', 'Nb of diffuse cells', 'Nb of cells with condensates', 'Transfected/all', 'diffuse/transfected', 'condensates/transfected'])\n",
    "df_data = pd.DataFrame(columns=['expmt', 'Nb of cells', 'Nb of transfected cells', 'Nb of diffuse cells', 'Nb of cells with condensates', 'Transfected/all', 'diffuse/transfected', 'condensates/transfected'])\n",
    "results =[]\n",
    "\n",
    "for filepath in files_paths:\n",
    "    rm=RoiManager.getRoiManager()\n",
    "    rm.reset()\n",
    "    e += 1\n",
    "\n",
    "    #Open the image\n",
    "    imp = IJ.openImage(filepath)\n",
    "    imp.show()\n",
    "\n",
    "    #If z-stack then max intensity projection\n",
    "    if (imp.getDimensions()[3]>1):\n",
    "        IJ.run(\"Z Project...\", \"projection=[Max Intensity]\")\n",
    "        imp.close()\n",
    "        imp.show()\n",
    "        imp= IJ.getImage()\n",
    "\n",
    "    # Reset contrast\n",
    "    imp.setC(1)\n",
    "    IJ.resetMinAndMax(imp)\n",
    "    IJ.run(imp, \"Enhance Contrast\", \"saturated=0.35\")\n",
    "    IJ.run(imp, \"Next Slice [>]\", \"\")\n",
    "    IJ.resetMinAndMax(imp)\n",
    "    imp.setC(1)\n",
    "\n",
    "    # Reference experiment\n",
    "    gui=NonBlockingGenericDialog(\"Experiment?\")\n",
    "    gui.addMessage(\"Ref+Lamella\")\n",
    "    # Replace XXX by ref experiment and x by lamella number\n",
    "    gui.addStringField(\"n°\",f'{e}')\n",
    "    gui.enableYesNoCancel('ok', 'skip')\n",
    "    gui.showDialog()\n",
    "\n",
    "    if gui.wasCanceled():\n",
    "        imp.close()\n",
    "        break\n",
    "    if not gui.wasOKed():\n",
    "        imp.close()\n",
    "        continue\n",
    "    expmt=ij.py.from_java(gui.getNextString())\n",
    "\n",
    "    # Adjust brighness and contrast manually\n",
    "    IJ.run(\"Brightness/Contrast...\")\n",
    "    gui=NonBlockingGenericDialog(\"Adjust Brightness/Contrast\")\n",
    "    gui.enableYesNoCancel('ok', 'skip')\n",
    "    gui.showDialog()\n",
    "\n",
    "    # Select all cells\n",
    "    rm.reset()\n",
    "    IJ.run(imp, \"Select None\", \"\");\n",
    "    IJ.setTool(\"multipoint\")\n",
    "    imp.setDisplayMode(IJ.COLOR)\n",
    "    imp.setC(2)\n",
    "\n",
    "    WaitForUserDialog(\"Select all cells and press 't'\").show()\n",
    "    all_cells_roi=rm.getRoisAsArray()\n",
    "\n",
    "    if not all_cells_roi:\n",
    "        WaitForUserDialog(\"Empty ROI Manager. Press 't' key after selecting cells. One more chance:\").show()\n",
    "        all_cells_roi=rm.getRoisAsArray()\n",
    "        all_cells=all_cells_roi[0].getContainedPoints()\n",
    "\n",
    "    all_cells=all_cells_roi[0].getContainedPoints()\n",
    "    nb_cells = len(all_cells)\n",
    "\n",
    "    # Select transfected diffuse cells\n",
    "    rm.reset()\n",
    "    IJ.run(imp, \"Select None\", \"\");\n",
    "    imp.setDisplayMode(IJ.COLOR)\n",
    "    imp.setC(1)\n",
    "\n",
    "    WaitForUserDialog(\"Select transfected cells with diffuse fluorescence and press 't'\").show()\n",
    "    diffuse_cells_roi=rm.getRoisAsArray()\n",
    "\n",
    "    if not diffuse_cells_roi:\n",
    "        #WaitForUserDialog(\"Empty ROI Manager. Press 't' key after selecting cells. One more chance:\").show()\n",
    "        #diffuse_cells_roi=rm.getRoisAsArray()\n",
    "        #diffuse_cells=diffuse_cells_roi[0].getContainedPoints()\n",
    "        nb_diffuse_cells=0\n",
    "    else:        \n",
    "        diffuse_cells=diffuse_cells_roi[0].getContainedPoints()\n",
    "        nb_diffuse_cells = len(diffuse_cells)\n",
    "\n",
    "    # Select transfected cells with condensates\n",
    "    rm.reset()\n",
    "    IJ.run(imp, \"Select None\", \"\");\n",
    "    imp.setDisplayMode(IJ.COLOR)\n",
    "    imp.setC(1)\n",
    "\n",
    "    WaitForUserDialog(\"Select transfected cells with condensates and press 't'\").show()\n",
    "    body_cells_roi=rm.getRoisAsArray()\n",
    "\n",
    "    if not body_cells_roi:\n",
    "        #WaitForUserDialog(\"Empty ROI Manager. Press 't' key after selecting cells. One more chance:\").show()\n",
    "        #body_cells_roi=rm.getRoisAsArray()\n",
    "        #body_cells=body_cells_roi[0].getContainedPoints()\n",
    "        nb_body_cells = 0\n",
    "    else:\n",
    "        body_cells=body_cells_roi[0].getContainedPoints()\n",
    "        nb_body_cells = len(body_cells)\n",
    "\n",
    "    # Storage of results from the current frame\n",
    "    transfected_cells = nb_diffuse_cells + nb_body_cells\n",
    "    data = [expmt, nb_cells, transfected_cells, nb_diffuse_cells, nb_body_cells, transfected_cells/nb_cells, nb_diffuse_cells/transfected_cells, nb_body_cells/transfected_cells]\n",
    "\n",
    "    #Add results from the current frame to the big data table\n",
    "    #results += [data]\n",
    "    #Use dataframe\n",
    "    df_data = pd.DataFrame([data], columns=['expmt', 'Nb of cells', 'Nb of transfected cells', 'Nb of diffuse cells', 'Nb of cells with condensates', 'Transfected/all', 'diffuse/transfected', 'condensates/transfected'])\n",
    "    df_results = pd.concat([df_results, df_data], ignore_index=True)\n",
    "display(df_results)"
   ]
  },
  {
   "cell_type": "code",
   "execution_count": null,
   "metadata": {
    "collapsed": false,
    "jupyter": {
     "outputs_hidden": false
    }
   },
   "outputs": [],
   "source": [
    "#save as an excel file\n",
    "df_results.to_excel(r'D:\\Quan\\data\\2# emGFP_PMLwt_500ng.xlsx', index=False)"
   ]
  },
  {
   "cell_type": "code",
   "execution_count": null,
   "metadata": {},
   "outputs": [],
   "source": []
  }
 ],
 "metadata": {
  "kernelspec": {
   "display_name": "Python 3 (ipykernel)",
   "language": "python",
   "name": "python3"
  },
  "language_info": {
   "codemirror_mode": {
    "name": "ipython",
    "version": 3
   },
   "file_extension": ".py",
   "mimetype": "text/x-python",
   "name": "python",
   "nbconvert_exporter": "python",
   "pygments_lexer": "ipython3",
   "version": "3.11.8"
  }
 },
 "nbformat": 4,
 "nbformat_minor": 4
}
