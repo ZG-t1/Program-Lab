{
 "cells": [
  {
   "cell_type": "code",
   "execution_count": 1,
   "metadata": {
    "collapsed": true
   },
   "outputs": [],
   "source": [
    "import imagej\n",
    "from scyjava import jimport\n",
    "from scipy import stats\n",
    "import xarray as xr\n",
    "import matplotlib.pyplot as plt\n",
    "import numpy as np\n",
    "import pandas as pd\n",
    "from scyjava import jimport, config\n",
    "import xlsxwriter\n",
    "from openpyxl import Workbook\n",
    "from openpyxl import load_workbook\n",
    "from glob import glob\n",
    "import os\n",
    "import re"
   ]
  },
  {
   "cell_type": "code",
   "execution_count": 2,
   "outputs": [
    {
     "name": "stdout",
     "output_type": "stream",
     "text": [
      "2.14.0/1.54f\n"
     ]
    }
   ],
   "source": [
    "if 'ij' in locals() and ij is not None:\n",
    "    ij.dispose()\n",
    "plugins_dir = r'C:\\Program Files\\Fiji.app\\plugins'\n",
    "config.add_option(f'-Dplugins.dir={plugins_dir}')\n",
    "ij = imagej.init(r\"C:\\Program Files\\Fiji.app\", mode=imagej.Mode.INTERACTIVE)\n",
    "print(ij.getVersion())\n",
    "ij.ui().showUI()\n",
    "\n",
    "#import imageJ\n",
    "ImagePlus=jimport('ij.ImagePlus')\n",
    "IJ = jimport('ij.IJ')\n",
    "FileSaver = jimport('ij.io.FileSaver')\n",
    "WaitForUserDialog = jimport('ij.gui.WaitForUserDialog')\n",
    "ChannelSplitter = jimport('ij.plugin.ChannelSplitter')\n",
    "ImageCalculator = jimport('ij.plugin.ImageCalculator')\n",
    "NonBlockingGenericDialog = jimport('ij.gui.NonBlockingGenericDialog')\n",
    "PointRoi = jimport('ij.gui.PointRoi')\n",
    "GenericDialog = jimport('ij.gui.GenericDialog')\n",
    "RoiManager = jimport('ij.plugin.frame.RoiManager')\n",
    "WindowManager = jimport('ij.WindowManager')\n",
    "Duplicator = jimport('ij.plugin.Duplicator')\n",
    "ResultsTable = jimport('ij.measure.ResultsTable')\n",
    "ImageStack = jimport('ij.ImageStack')"
   ],
   "metadata": {
    "collapsed": false
   }
  },
  {
   "cell_type": "code",
   "execution_count": 4,
   "outputs": [
    {
     "ename": "ZeroDivisionError",
     "evalue": "division by zero",
     "output_type": "error",
     "traceback": [
      "\u001B[1;31m---------------------------------------------------------------------------\u001B[0m",
      "\u001B[1;31mZeroDivisionError\u001B[0m                         Traceback (most recent call last)",
      "Cell \u001B[1;32mIn[4], line 97\u001B[0m\n\u001B[0;32m     94\u001B[0m     total_condensates \u001B[38;5;241m+\u001B[39m\u001B[38;5;241m=\u001B[39m \u001B[38;5;28mlist\u001B[39m[\u001B[38;5;241m2\u001B[39m]\n\u001B[0;32m     95\u001B[0m     total_transfected \u001B[38;5;241m+\u001B[39m\u001B[38;5;241m=\u001B[39m \u001B[38;5;28mlist\u001B[39m[\u001B[38;5;241m1\u001B[39m]\n\u001B[1;32m---> 97\u001B[0m results \u001B[38;5;241m+\u001B[39m\u001B[38;5;241m=\u001B[39m [[\u001B[38;5;124m'\u001B[39m\u001B[38;5;124mtotal\u001B[39m\u001B[38;5;124m'\u001B[39m, total_transfected, total_condensates, \u001B[43mtotal_condensates\u001B[49m\u001B[38;5;241;43m/\u001B[39;49m\u001B[43mtotal_condensates\u001B[49m]]\n\u001B[0;32m     98\u001B[0m results_table \u001B[38;5;241m=\u001B[39m pd\u001B[38;5;241m.\u001B[39mDataFrame(results, columns\u001B[38;5;241m=\u001B[39m[\u001B[38;5;124m'\u001B[39m\u001B[38;5;124mexpmt\u001B[39m\u001B[38;5;124m'\u001B[39m, \u001B[38;5;124m'\u001B[39m\u001B[38;5;124mNb of transfected cells\u001B[39m\u001B[38;5;124m'\u001B[39m, \u001B[38;5;124m'\u001B[39m\u001B[38;5;124mNb of cells with condensates\u001B[39m\u001B[38;5;124m'\u001B[39m, \u001B[38;5;124m'\u001B[39m\u001B[38;5;124mRatio\u001B[39m\u001B[38;5;124m'\u001B[39m])\n\u001B[0;32m     99\u001B[0m display(results_table)\n",
      "\u001B[1;31mZeroDivisionError\u001B[0m: division by zero"
     ]
    }
   ],
   "source": [
    "path = r\"D:\\PhD Pauline\\µmanager\\231206 TDP74\\Lamelle 2 - 5Fm-emGFP-TDP43 + FK506\"\n",
    "files_paths = glob(os.path.join(path, \"**\", \"*.tif\"), recursive=True)\n",
    "dre = re.compile(r'(\\d+)')\n",
    "files_paths.sort(key=lambda l: [int(s) if s.isdigit() else s.lower() for s in re.split(dre, l)])\n",
    "e=0\n",
    "results = []\n",
    "for filepath in files_paths:\n",
    "    imp = IJ.openImage(filepath)\n",
    "    imp.show()\n",
    "    d = Duplicator()\n",
    "    if (imp.getDimensions()[2]<2):\n",
    "        e += 1\n",
    "        imp.close()\n",
    "        continue\n",
    "    if (imp.getDimensions()[3]>1):\n",
    "        IJ.run(\"Z Project...\", \"projection=[Max Intensity]\")\n",
    "        imp.close()\n",
    "        imp.show()\n",
    "        imp= IJ.getImage()\n",
    "\n",
    "    #Choice of Luts for each chanel\n",
    "    IJ.resetMinAndMax(imp);\n",
    "    IJ.run(imp, \"Next Slice [>]\", \"\")\n",
    "    IJ.run(imp, \"Green\", \"\")\n",
    "    IJ.resetMinAndMax(imp);\n",
    "    IJ.run(imp, \"Next Slice [>]\", \"\")\n",
    "    IJ.run(imp, \"Cyan\", \"\")\n",
    "    IJ.resetMinAndMax(imp);\n",
    "    imp.setC(1)\n",
    "\n",
    "    #Reference expmt\n",
    "    e += 1\n",
    "    gui=NonBlockingGenericDialog(\"Experiment?\")\n",
    "    gui.addMessage(\"Ref+Lamelle\")\n",
    "    gui.addStringField(\"n°\",f'TDP74_2_{e}')\n",
    "    gui.enableYesNoCancel('ok', 'skip')\n",
    "    gui.showDialog()\n",
    "\n",
    "    if gui.wasCanceled():\n",
    "        imp.close()\n",
    "        break\n",
    "    if not gui.wasOKed():\n",
    "        imp.close()\n",
    "        continue\n",
    "    expmt=ij.py.from_java(gui.getNextString())\n",
    "\n",
    "    #Adjust brighness and contrast\n",
    "    IJ.run(\"Brightness/Contrast...\")\n",
    "    gui=NonBlockingGenericDialog(\"Adjust Brightness/Contrast\")\n",
    "    gui.enableYesNoCancel('ok', 'skip')\n",
    "    gui.showDialog()\n",
    "\n",
    "    #Select transfected cells\n",
    "    splitted_frame=ChannelSplitter.split(imp)\n",
    "    chGFP_frame=splitted_frame[0]\n",
    "    chGFP_frame.show()\n",
    "    IJ.setTool(\"multipoint\")\n",
    "    WaitForUserDialog(\"Select Transfected Cells\").show()\n",
    "    rm=RoiManager.getRoiManager()\n",
    "    transfected_roi=rm.getRoisAsArray()\n",
    "    rm.runCommand(imp,\"Show All\");\n",
    "    if not transfected_roi:\n",
    "        WaitForUserDialog(\"Empty ROI Manager. Press 't' key after selecting cells. One more chance:\").show()\n",
    "        rm=RoiManager.getRoiManager()\n",
    "        transfected_roi=rm.getRoisAsArray()\n",
    "        transfected=transfected_roi[0].getContainedPoints()\n",
    "        rm.reset()\n",
    "    else:\n",
    "        transfected=transfected_roi[0].getContainedPoints()\n",
    "        rm.reset()\n",
    "\n",
    "    IJ.run(chGFP_frame, \"Select None\", \"\");\n",
    "\n",
    "    #Select condensate-displaying cells\n",
    "    IJ.setTool(\"multipoint\")\n",
    "    WaitForUserDialog(\"Select cells with condensates\").show()\n",
    "    condensates_roi=rm.getRoisAsArray()\n",
    "    rm.runCommand(imp,\"Show All\");\n",
    "    if not condensates_roi:\n",
    "        condensates=[]\n",
    "        rm.reset()\n",
    "    else:\n",
    "        condensates=condensates_roi[0].getContainedPoints()\n",
    "        rm.reset()\n",
    "    ratio = len(condensates)/len(transfected)\n",
    "    results += [[expmt, len(transfected), len(condensates), ratio]]\n",
    "    display(results)\n",
    "    imp.close()\n",
    "    chGFP_frame.close()\n",
    "\n",
    "total_transfected = 0\n",
    "total_condensates = 0\n",
    "for list in results:\n",
    "    total_condensates += list[2]\n",
    "    total_transfected += list[1]\n",
    "\n",
    "results += [['total', total_transfected, total_condensates, total_condensates/total_condensates]]\n",
    "results_table = pd.DataFrame(results, columns=['expmt', 'Nb of transfected cells', 'Nb of cells with condensates', 'Ratio'])\n",
    "display(results_table)\n",
    "results_table.to_excel(r\"D:\\PhD Pauline\\Data\\Dissociation\\Data_dissociation.xlsx\", index=False)"
   ],
   "metadata": {
    "collapsed": false
   }
  },
  {
   "cell_type": "code",
   "execution_count": 14,
   "outputs": [
    {
     "data": {
      "text/plain": "[[['TDP58_1_1', 7, 4, 0.5714285714285714],\n  ['TDP58_1_2', 5, 4, 0.8],\n  ['TDP58_1_3', 6, 3, 0.5],\n  ['TDP58_1_4', 3, 2, 0.6666666666666666]],\n [['TDP58_1_5', 8, 2, 0.25],\n  ['TDP58_1_8', 3, 3, 1.0],\n  ['TDP58_1_9', 6, 0, 0.0],\n  ['TDP58_1_10', 4, 4, 1.0]],\n [['TDP58_1_11', 4, 1, 0.25],\n  ['TDP58_1_12', 5, 4, 0.8],\n  ['TDP58_1_13', 3, 2, 0.6666666666666666],\n  ['TDP58_1_14', 3, 3, 1.0]],\n [['TDP58_1_15', 2, 2, 1.0],\n  ['TDP58_1_16', 4, 4, 1.0],\n  ['TDP58_1_17', 6, 4, 0.6666666666666666],\n  ['TDP58_1_18', 4, 3, 0.75]],\n [['TDP58_1_20', 2, 2, 1.0],\n  ['TDP58_1_21', 3, 3, 1.0],\n  ['TDP58_1_22', 4, 4, 1.0],\n  ['TDP58_1_23', 1, 1, 1.0]],\n [['TDP58_1_24', 6, 6, 1.0],\n  ['TDP58_1_25', 4, 2, 0.5],\n  ['TDP58_1_26', 2, 1, 0.5],\n  ['TDP58_1_27', 5, 1, 0.2]],\n [['TDP58_1_28', 2, 2, 1.0],\n  ['TDP58_1_29', 5, 2, 0.4],\n  ['TDP58_1_30', 1, 1, 1.0],\n  ['TDP58_1_31', 5, 4, 0.8]],\n [['TDP58_1_32', 4, 3, 0.75],\n  ['TDP58_1_33', 2, 2, 1.0],\n  ['TDP58_1_34', 9, 6, 0.6666666666666666],\n  ['TDP58_1_35', 4, 4, 1.0]],\n [['total', 132, 89, 1.0]],\n [],\n [],\n [],\n [],\n [],\n [],\n [],\n [],\n [],\n [],\n [],\n [],\n [],\n [],\n [],\n [],\n [],\n [],\n [],\n [],\n [],\n [],\n [],\n []]"
     },
     "metadata": {},
     "output_type": "display_data"
    }
   ],
   "source": [
    "ordered_results = []\n",
    "i=0\n",
    "for data in results:\n",
    "    ordered_results += [results[i:i+4]]\n",
    "    i += 4\n",
    "display(ordered_results)"
   ],
   "metadata": {
    "collapsed": false
   }
  },
  {
   "cell_type": "code",
   "execution_count": 7,
   "outputs": [],
   "source": [
    "results_table = pd.DataFrame(results, columns=['expmt', 'Nb of transfected cells', 'Nb of cells with condensates', 'Ratio'])\n",
    "results_table\n",
    "results_table.to_excel('D:\\PhD Pauline\\Data\\SeedingEffect\\Raw_Data.xlsx', index=False)"
   ],
   "metadata": {
    "collapsed": false
   }
  },
  {
   "cell_type": "code",
   "execution_count": 13,
   "outputs": [
    {
     "data": {
      "text/plain": "[['TDP58_1_1', 7, 4, 0.5714285714285714],\n ['TDP58_1_2', 5, 4, 0.8],\n ['TDP58_1_3', 6, 3, 0.5],\n ['TDP58_1_4', 3, 2, 0.6666666666666666],\n ['TDP58_1_5', 8, 2, 0.25],\n ['TDP58_1_8', 3, 3, 1.0],\n ['TDP58_1_9', 6, 0, 0.0],\n ['TDP58_1_10', 4, 4, 1.0],\n ['TDP58_1_11', 4, 1, 0.25],\n ['TDP58_1_12', 5, 4, 0.8],\n ['TDP58_1_13', 3, 2, 0.6666666666666666],\n ['TDP58_1_14', 3, 3, 1.0],\n ['TDP58_1_15', 2, 2, 1.0],\n ['TDP58_1_16', 4, 4, 1.0],\n ['TDP58_1_17', 6, 4, 0.6666666666666666],\n ['TDP58_1_18', 4, 3, 0.75],\n ['TDP58_1_20', 2, 2, 1.0],\n ['TDP58_1_21', 3, 3, 1.0],\n ['TDP58_1_22', 4, 4, 1.0],\n ['TDP58_1_23', 1, 1, 1.0],\n ['TDP58_1_24', 6, 6, 1.0],\n ['TDP58_1_25', 4, 2, 0.5],\n ['TDP58_1_26', 2, 1, 0.5],\n ['TDP58_1_27', 5, 1, 0.2],\n ['TDP58_1_28', 2, 2, 1.0],\n ['TDP58_1_29', 5, 2, 0.4],\n ['TDP58_1_30', 1, 1, 1.0],\n ['TDP58_1_31', 5, 4, 0.8],\n ['TDP58_1_32', 4, 3, 0.75],\n ['TDP58_1_33', 2, 2, 1.0],\n ['TDP58_1_34', 9, 6, 0.6666666666666666],\n ['TDP58_1_35', 4, 4, 1.0],\n ['total', 132, 89, 1.0]]"
     },
     "execution_count": 13,
     "metadata": {},
     "output_type": "execute_result"
    }
   ],
   "source": [
    "results"
   ],
   "metadata": {
    "collapsed": false
   }
  },
  {
   "cell_type": "code",
   "execution_count": null,
   "outputs": [],
   "source": [],
   "metadata": {
    "collapsed": false
   }
  }
 ],
 "metadata": {
  "kernelspec": {
   "display_name": "Python 3",
   "language": "python",
   "name": "python3"
  },
  "language_info": {
   "codemirror_mode": {
    "name": "ipython",
    "version": 2
   },
   "file_extension": ".py",
   "mimetype": "text/x-python",
   "name": "python",
   "nbconvert_exporter": "python",
   "pygments_lexer": "ipython2",
   "version": "2.7.6"
  }
 },
 "nbformat": 4,
 "nbformat_minor": 0
}
