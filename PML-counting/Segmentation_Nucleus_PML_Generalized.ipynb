{
 "cells": [
  {
   "cell_type": "code",
   "id": "initial_id",
   "metadata": {
    "collapsed": true,
    "ExecuteTime": {
     "end_time": "2024-05-19T08:10:02.743960Z",
     "start_time": "2024-05-19T08:10:02.685509Z"
    }
   },
   "source": [
    "# Basic segmentation based on otsu\n",
    "# Here the idea is to select sub-Roi and apply basic counting on each\n",
    "# import sample data\n",
    "import os\n",
    "import skimage as ski\n",
    "filename_Nuc = os.path.join(ski.data_dir, '/Users/zg/Mammouth/PROJECTS/Analysis/Image_Choice/MAX_PMLwt_20_MMStack_Pos0.ome-1-Nuc.tif')\n",
    "Nucleus_PML = ski.io.imread(filename_Nuc)\n",
    "\n",
    "filename_PML = os.path.join(ski.data_dir, '/Users/zg/Mammouth/PROJECTS/Analysis/Image_Choice/MAX_PMLwt_20_MMStack_Pos0.ome-1-PML.tif')\n",
    "PML = ski.io.imread(filename_PML)\n"
   ],
   "outputs": [],
   "execution_count": 19
  },
  {
   "metadata": {
    "ExecuteTime": {
     "end_time": "2024-05-19T08:10:05.728492Z",
     "start_time": "2024-05-19T08:10:04.299246Z"
    }
   },
   "cell_type": "code",
   "source": [
    "import napari\n",
    "# create a `Viewer` and `Image` layer in Napari\n",
    "viewer = napari.Viewer()\n",
    "viewer.add_image(Nucleus_PML, colormap='blue', name='Nucleus PML')\n",
    "viewer.add_image(PML, colormap='magma', name='PML')"
   ],
   "id": "7d1b33994e44dd10",
   "outputs": [
    {
     "data": {
      "text/plain": [
       "<Image layer 'PML' at 0x1917118e0>"
      ]
     },
     "execution_count": 20,
     "metadata": {},
     "output_type": "execute_result"
    }
   ],
   "execution_count": 20
  },
  {
   "metadata": {
    "ExecuteTime": {
     "end_time": "2024-05-19T08:10:07.086339Z",
     "start_time": "2024-05-19T08:10:06.867963Z"
    }
   },
   "cell_type": "code",
   "source": [
    "#segmentation using otsu\n",
    "from skimage import data\n",
    "from skimage.filters import threshold_otsu\n",
    "from skimage.segmentation import clear_border\n",
    "from skimage.measure import label\n",
    "from skimage.morphology import closing, square, remove_small_objects\n",
    "\n",
    "# apply threshold on PML bodies\n",
    "thresh_PML = threshold_otsu(PML)\n",
    "bw_PML = closing(PML > thresh_PML, square(5))\n",
    "\n",
    "# remove artifacts connected to image border\n",
    "cleared = remove_small_objects(clear_border(bw_PML), 10)\n",
    "\n",
    "# label image regions\n",
    "label_image_PML = label(cleared)\n",
    "\n",
    "# add the labels\n",
    "labels_layer = viewer.add_labels(label_image_PML, name='segmentation-PML')"
   ],
   "id": "f309ffdd8fe8b162",
   "outputs": [],
   "execution_count": 21
  },
  {
   "metadata": {
    "ExecuteTime": {
     "end_time": "2024-05-19T08:10:10.218509Z",
     "start_time": "2024-05-19T08:10:10.212059Z"
    }
   },
   "cell_type": "code",
   "source": "label_image_PML;\n",
   "id": "eb2a48620203496d",
   "outputs": [],
   "execution_count": 22
  },
  {
   "metadata": {
    "ExecuteTime": {
     "end_time": "2024-05-19T08:10:11.852009Z",
     "start_time": "2024-05-19T08:10:11.626004Z"
    }
   },
   "cell_type": "code",
   "source": [
    "# apply threshold on Nucleus\n",
    "thresh_Nuc = threshold_otsu(Nucleus_PML)\n",
    "bw_Nuc = closing(Nucleus_PML > thresh_Nuc, square(13))\n",
    "\n",
    "# remove artifacts connected to image border\n",
    "cleared = remove_small_objects(clear_border(bw_Nuc), 10)\n",
    "\n",
    "# label image regions\n",
    "label_image_Nuc = label(cleared)\n",
    "\n",
    "# add the labels\n",
    "labels_layer = viewer.add_labels(label_image_Nuc, name='segmentation-Nucleus')\n"
   ],
   "id": "5098b3abb9af42ff",
   "outputs": [],
   "execution_count": 23
  },
  {
   "metadata": {
    "ExecuteTime": {
     "end_time": "2024-05-19T08:10:13.159686Z",
     "start_time": "2024-05-19T08:10:13.152911Z"
    }
   },
   "cell_type": "code",
   "source": "Mask=viewer.layers[2].data",
   "id": "4620a26a3ee4d787",
   "outputs": [],
   "execution_count": 24
  },
  {
   "metadata": {
    "ExecuteTime": {
     "end_time": "2024-05-19T08:10:15.610640Z",
     "start_time": "2024-05-19T08:10:15.425759Z"
    }
   },
   "cell_type": "code",
   "source": [
    "Result_PML=Mask*PML; #unclear if it is required\n",
    "viewer.add_image(Result_PML)"
   ],
   "id": "31e4846a26b72ee3",
   "outputs": [
    {
     "data": {
      "text/plain": [
       "<Image layer 'Result_PML' at 0x192c4db20>"
      ]
     },
     "execution_count": 25,
     "metadata": {},
     "output_type": "execute_result"
    }
   ],
   "execution_count": 25
  },
  {
   "metadata": {
    "ExecuteTime": {
     "end_time": "2024-05-19T08:10:21.168731Z",
     "start_time": "2024-05-19T08:10:17.308589Z"
    }
   },
   "cell_type": "code",
   "source": [
    "# Here is the generalized version \n",
    "import numpy as np\n",
    "import napari\n",
    "# Assuming you have loaded your label image into label_image_Nuc\n",
    "# Assuming you have loaded your Nucleus_PML image into Nucleus_PML\n",
    "\n",
    "# Get unique label values from the label image\n",
    "unique_labels = np.unique(label_image_Nuc)\n",
    "\n",
    "# Remove background label if exists\n",
    "unique_labels = unique_labels[unique_labels != 0]\n",
    "\n",
    "# Initialize a list to store extracted ROIs and corresponding results\n",
    "roi_list = []\n",
    "result_list = []\n",
    "\n",
    "# Extract each ROI by its label value and perform desired operation (multiplication with Nucleus_PML in this case)\n",
    "for label in unique_labels:\n",
    "    # Extract the ROI with the current label value\n",
    "    roi = np.where(label_image_Nuc == label, 1, 0)\n",
    "    roi_list.append(roi)\n",
    "    \n",
    "    # Perform desired operation on the ROI (e.g., multiplication with Nucleus_PML)\n",
    "    result_roi = Nucleus_PML * roi\n",
    "    result_list.append(result_roi)\n",
    "\n",
    "# Display each extracted ROI and result using napari\n",
    "viewer = napari.Viewer()\n",
    "for i, (roi, result_roi) in enumerate(zip(roi_list, result_list)):\n",
    "    viewer.add_image(roi, name=f'ROI_{unique_labels[i]}')\n",
    "    viewer.add_image(result_roi, name=f'Result_ROI_{unique_labels[i]}')\n",
    "\n",
    "napari.run()"
   ],
   "id": "1d18a771fea47db4",
   "outputs": [],
   "execution_count": 26
  },
  {
   "metadata": {
    "ExecuteTime": {
     "end_time": "2024-05-19T08:10:24.507808Z",
     "start_time": "2024-05-19T08:10:24.360975Z"
    }
   },
   "cell_type": "code",
   "source": [
    "from skimage import measure\n",
    "import pandas as pd\n",
    "\n",
    "# Assuming you have loaded your label image into label_image_Nuc\n",
    "# Assuming you have loaded your Nucleus_PML image into Nucleus_PML\n",
    "\n",
    "# Get unique label values from the label image\n",
    "unique_labels = np.unique(label_image_Nuc)\n",
    "\n",
    "# Remove background label if exists\n",
    "unique_labels = unique_labels[unique_labels != 0]\n",
    "\n",
    "# Initialize lists to store region properties\n",
    "area_list = []\n",
    "mean_intensity_list = []\n",
    "\n",
    "# Extract each ROI by its label value and calculate region properties\n",
    "for label in unique_labels:\n",
    "    # Extract the ROI with the current label value\n",
    "    roi = np.where(label_image_Nuc == label, 1, 0)\n",
    "    \n",
    "    # Calculate properties for the ROI using result_roi\n",
    "    #result_roi = Nucleus_PML * roi\n",
    "    #result_roi_bodies = PML * roi\n",
    "    Product= roi*label_image_PML\n",
    "    region_properties = measure.regionprops_table(Product, PML, properties=['area', 'mean_intensity'])\n",
    "    #region_properties = measure.regionprops_table(roi, result_roi, properties=['area', 'mean_intensity'])\n",
    "    #region_properties_bodies = measure.regionprops_table(roi, result_roi, properties=['area', 'mean_intensity'])\n",
    "    # Store the calculated properties in lists\n",
    "    #area_list.append(region_properties['area'][0])\n",
    "    #mean_intensity_list.append(region_properties['mean_intensity'][0])\n",
    "    \n",
    "    #pixel size\n",
    "   \n",
    "pix_size=6.45/63;\n",
    "pix_size_square = pix_size ** 2\n",
    "area_list = [area * pix_size_square for area in area_list]\n",
    "# Create a DataFrame to store the region properties\n",
    "region_properties_df_Nucleus_PML = pd.DataFrame({'Area': area_list, 'Mean_Intensity': mean_intensity_list})\n",
    "\n",
    "# Display the DataFrame\n",
    "region_properties_df_Nucleus_PML"
   ],
   "id": "52ab82f2fdeafa20",
   "outputs": [
    {
     "data": {
      "text/plain": [
       "Empty DataFrame\n",
       "Columns: [Area, Mean_Intensity]\n",
       "Index: []"
      ],
      "text/html": [
       "<div>\n",
       "<style scoped>\n",
       "    .dataframe tbody tr th:only-of-type {\n",
       "        vertical-align: middle;\n",
       "    }\n",
       "\n",
       "    .dataframe tbody tr th {\n",
       "        vertical-align: top;\n",
       "    }\n",
       "\n",
       "    .dataframe thead th {\n",
       "        text-align: right;\n",
       "    }\n",
       "</style>\n",
       "<table border=\"1\" class=\"dataframe\">\n",
       "  <thead>\n",
       "    <tr style=\"text-align: right;\">\n",
       "      <th></th>\n",
       "      <th>Area</th>\n",
       "      <th>Mean_Intensity</th>\n",
       "    </tr>\n",
       "  </thead>\n",
       "  <tbody>\n",
       "  </tbody>\n",
       "</table>\n",
       "</div>"
      ]
     },
     "execution_count": 27,
     "metadata": {},
     "output_type": "execute_result"
    }
   ],
   "execution_count": 27
  },
  {
   "metadata": {
    "ExecuteTime": {
     "end_time": "2024-05-19T08:10:37.662005Z",
     "start_time": "2024-05-19T08:10:29.778936Z"
    }
   },
   "cell_type": "code",
   "source": [
    "import numpy as np\n",
    "import napari\n",
    "unique_labels = np.unique(label_image_PML)\n",
    "\n",
    "\n",
    "\n",
    "# Remove background label if exists\n",
    "unique_labels = unique_labels[unique_labels != 0]\n",
    "\n",
    "# Initialize a list to store extracted ROIs and corresponding results\n",
    "roi_list = []\n",
    "result_list = []\n",
    "\n",
    "# Extract each ROI by its label value and perform desired operation (multiplication with Nucleus_PML in this case)\n",
    "for label in unique_labels:\n",
    "    # Extract the ROI with the current label value\n",
    "    roi = np.where(label_image_PML == label, 1, 0)\n",
    "    roi_list.append(roi)\n",
    "    \n",
    "    # Perform desired operation on the ROI (e.g., multiplication with Nucleus_PML)\n",
    "    result_roi = Nucleus_PML * roi\n",
    "    result_list.append(result_roi)\n",
    "\n",
    "# Display each extracted ROI and result using napari\n",
    "viewer = napari.Viewer()\n",
    "for i, (roi, result_roi) in enumerate(zip(roi_list, result_list)):\n",
    "    viewer.add_image(roi, name=f'ROI_{unique_labels[i]}')\n",
    "    viewer.add_image(result_roi, name=f'Result_ROI_{unique_labels[i]}')\n",
    "\n",
    "napari.run()\n"
   ],
   "id": "bb42976dc027005",
   "outputs": [],
   "execution_count": 28
  },
  {
   "metadata": {
    "ExecuteTime": {
     "end_time": "2024-05-19T08:16:06.038264Z",
     "start_time": "2024-05-19T08:16:05.728643Z"
    }
   },
   "cell_type": "code",
   "source": [
    "from skimage import measure\n",
    "import pandas as pd\n",
    "\n",
    "# Assuming you have loaded your label image into label_image_PML\n",
    "# Assuming you have loaded your Nucleus_PML image into Nucleus_PML\n",
    "\n",
    "# Get unique label values from the label image\n",
    "unique_labels = np.unique(label_image_PML)\n",
    "\n",
    "# Remove background label if exists\n",
    "unique_labels = unique_labels[unique_labels != 0]\n",
    "\n",
    "# Initialize lists to store region properties\n",
    "area_list = []\n",
    "mean_intensity_list = []\n",
    "\n",
    "# Extract each ROI by its label value and calculate region properties\n",
    "for label in unique_labels:\n",
    "    # Extract the ROI with the current label value\n",
    "    roi = np.where(label_image_PML == label, 1, 0)\n",
    "    # à tester : roi = label_image_PML == label\n",
    "    # Calculate properties for the ROI using result_roi\n",
    "    result_roi = Nucleus_PML * roi\n",
    "    region_properties = measure.regionprops_table(roi, result_roi, properties=['area', 'mean_intensity'])\n",
    "    \n",
    "    # Store the calculated properties in lists\n",
    "    area_list.append(region_properties['area'][0])\n",
    "    mean_intensity_list.append(region_properties['mean_intensity'][0])\n",
    "\n",
    "# Modify region properties by multiplying them by the square of pixel size\n",
    "pix_size=6.45/63;\n",
    "area_list = [area * pix_size_square for area in area_list]\n",
    "\n",
    "# Create a DataFrame to store the region properties\n",
    "region_properties_df_PML = pd.DataFrame({'Area': area_list, 'Mean_Intensity': mean_intensity_list})\n",
    "\n",
    "# Display the DataFrame\n",
    "print(region_properties_df_PML)\n",
    "\n"
   ],
   "id": "eb81f6c9d27be00d",
   "outputs": [
    {
     "name": "stdout",
     "output_type": "stream",
     "text": [
      "        Area  Mean_Intensity\n",
      "0   0.167710     1175.187500\n",
      "1   0.566020     1178.574074\n",
      "2   0.702285     1172.328358\n",
      "3   0.754694     1226.555556\n",
      "4   0.744212     1243.661972\n",
      "5   0.754694     1313.569444\n",
      "6   0.188673     1349.500000\n",
      "7   0.125782      291.666667\n",
      "8   0.482166      988.173913\n",
      "9   0.597466     1318.508772\n",
      "10  0.702285     1235.000000\n",
      "11  1.194932     1458.508772\n",
      "12  0.503129     1711.041667\n",
      "13  0.576502     2251.418182\n",
      "14  0.712766     2159.000000\n",
      "15  0.136264     1074.076923\n",
      "16  0.199155     1635.315789\n",
      "17  0.398311     1642.263158\n",
      "18  0.513611     1344.734694\n",
      "19  1.132041     1508.416667\n",
      "20  0.566020     1140.425926\n"
     ]
    }
   ],
   "execution_count": 30
  },
  {
   "metadata": {
    "ExecuteTime": {
     "end_time": "2024-05-19T08:16:51.519487Z",
     "start_time": "2024-05-19T08:16:50.330287Z"
    }
   },
   "cell_type": "code",
   "source": [
    "import seaborn as sns\n",
    "import matplotlib.pyplot as plt\n",
    "\n",
    "# Assuming you have two DataFrames: region_properties_df_PML and region_properties_df_Nucleus_PML\n",
    "# Each DataFrame has two columns: 'Mean_Intensity' and 'Area'\n",
    "\n",
    "# Plotting\n",
    "sns.set(style=\"whitegrid\")\n",
    "plt.figure(figsize=(12, 8))\n",
    "\n",
    "# Swarm plot for PML intensity\n",
    "plt.subplot(2, 2, 1)\n",
    "sns.swarmplot(y='Mean_Intensity', data=region_properties_df_PML)\n",
    "plt.title('PML Intensity')\n",
    "plt.xlabel('')\n",
    "\n",
    "# Swarm plot for PML size\n",
    "plt.subplot(2, 2, 2)\n",
    "sns.swarmplot(y='Area', data=region_properties_df_PML)\n",
    "plt.title('PML Size (micrometer ^2)')\n",
    "plt.xlabel('')\n",
    "\n",
    "# Swarm plot for Nucleus_PML intensity\n",
    "plt.subplot(2, 2, 3)\n",
    "sns.swarmplot(y='Mean_Intensity', data=region_properties_df_Nucleus_PML)\n",
    "plt.title('Nucleus_PML Intensity')\n",
    "\n",
    "# Swarm plot for Nucleus_PML size\n",
    "plt.subplot(2, 2, 4)\n",
    "sns.swarmplot(y='Area', data=region_properties_df_Nucleus_PML)\n",
    "plt.title('Nucleus_PML Size (micrometer ^2)')\n",
    "\n",
    "plt.tight_layout()\n",
    "plt.show()"
   ],
   "id": "922214f757061b5",
   "outputs": [
    {
     "data": {
      "text/plain": [
       "<Figure size 1200x800 with 4 Axes>"
      ],
      "image/png": "[encoded data removed]"
     },
     "metadata": {},
     "output_type": "display_data"
    }
   ],
   "execution_count": 31
  },
  {
   "metadata": {},
   "cell_type": "markdown",
   "source": "",
   "id": "31c79e502b2e512e"
  },
  {
   "metadata": {
    "ExecuteTime": {
     "end_time": "2024-05-19T08:15:46.227229Z",
     "start_time": "2024-05-19T08:15:46.222770Z"
    }
   },
   "cell_type": "code",
   "source": "print(region_properties_df_Nucleus_PML)",
   "id": "30075c94011724e1",
   "outputs": [
    {
     "name": "stdout",
     "output_type": "stream",
     "text": [
      "Empty DataFrame\n",
      "Columns: [Area, Mean_Intensity]\n",
      "Index: []\n"
     ]
    }
   ],
   "execution_count": 29
  },
  {
   "metadata": {},
   "cell_type": "code",
   "outputs": [],
   "execution_count": null,
   "source": "\n",
   "id": "511badc456a6a07e"
  }
 ],
 "metadata": {
  "kernelspec": {
   "display_name": "Python 3",
   "language": "python",
   "name": "python3"
  },
  "language_info": {
   "codemirror_mode": {
    "name": "ipython",
    "version": 2
   },
   "file_extension": ".py",
   "mimetype": "text/x-python",
   "name": "python",
   "nbconvert_exporter": "python",
   "pygments_lexer": "ipython2",
   "version": "2.7.6"
  }
 },
 "nbformat": 4,
 "nbformat_minor": 5
}
