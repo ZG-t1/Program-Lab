{
 "cells": [
  {
   "cell_type": "code",
   "id": "initial_id",
   "metadata": {
    "collapsed": true,
    "ExecuteTime": {
     "end_time": "2024-05-19T10:18:31.493661Z",
     "start_time": "2024-05-19T10:18:31.480977Z"
    }
   },
   "source": [
    "# Basic segmentation based on otsu\n",
    "# Here the idea is to select sub-Roi and apply basic counting on each\n",
    "# import sample data\n",
    "import os\n",
    "import skimage as ski\n",
    "import os\n",
    "from skimage import io\n",
    "\n",
    "# Define the file path to the OME-TIFF file\n",
    "file_path = \"/Users/zg/Mammouth/PROJECTS/Analysis/Image_Choice/MAX_PMLwt_20_MMStack_Pos0.ome.tif\"\n",
    "\n",
    "# Read the OME-TIFF file\n",
    "multi_channel_image = io.imread(file_path)\n",
    "\n",
    "# Split the channels\n",
    "# Assuming the image has two channels: 0 for nucleus and 1 for PML\n",
    "Nucleus_PML = multi_channel_image[1, :, :]\n",
    "PML = multi_channel_image[0, :, :]\n",
    "\n",
    "# Verify the shapes of the images (for debugging purposes)\n",
    "print(f\"Nucleus image shape: {Nucleus_PML.shape}\")\n",
    "print(f\"PML image shape: {PML.shape}\")\n",
    "\n"
   ],
   "outputs": [
    {
     "name": "stdout",
     "output_type": "stream",
     "text": [
      "Nucleus image shape: (1072, 1072)\n",
      "PML image shape: (1072, 1072)\n"
     ]
    }
   ],
   "execution_count": 26
  },
  {
   "metadata": {
    "ExecuteTime": {
     "end_time": "2024-05-19T10:18:33.616834Z",
     "start_time": "2024-05-19T10:18:32.684355Z"
    }
   },
   "cell_type": "code",
   "source": [
    "import napari\n",
    "# create a `Viewer` and `Image` layer in Napari\n",
    "viewer = napari.Viewer()\n",
    "viewer.add_image(Nucleus_PML, colormap='blue', name='Nucleus PML')\n",
    "viewer.add_image(PML, colormap='magma', name='PML')"
   ],
   "id": "7d1b33994e44dd10",
   "outputs": [
    {
     "data": {
      "text/plain": [
       "<Image layer 'PML' at 0x16035d4c0>"
      ]
     },
     "execution_count": 27,
     "metadata": {},
     "output_type": "execute_result"
    }
   ],
   "execution_count": 27
  },
  {
   "metadata": {
    "ExecuteTime": {
     "end_time": "2024-05-19T10:18:37.029800Z",
     "start_time": "2024-05-19T10:18:36.809508Z"
    }
   },
   "cell_type": "code",
   "source": [
    "#segmentation using otsu\n",
    "from skimage import data\n",
    "from skimage.filters import threshold_otsu\n",
    "from skimage.segmentation import clear_border\n",
    "from skimage.measure import label\n",
    "from skimage.morphology import closing, square, remove_small_objects\n",
    "\n",
    "# apply threshold on PML bodies\n",
    "thresh_PML = threshold_otsu(PML)\n",
    "bw_PML = closing(PML > thresh_PML, square(5))\n",
    "\n",
    "# remove artifacts connected to image border\n",
    "cleared = remove_small_objects(clear_border(bw_PML), 10)\n",
    "\n",
    "# label image regions\n",
    "label_image_PML = label(cleared)\n",
    "\n",
    "# add the labels\n",
    "labels_layer = viewer.add_labels(label_image_PML, name='segmentation-PML')"
   ],
   "id": "f309ffdd8fe8b162",
   "outputs": [],
   "execution_count": 28
  },
  {
   "metadata": {
    "ExecuteTime": {
     "end_time": "2024-05-19T10:18:40.122751Z",
     "start_time": "2024-05-19T10:18:40.119752Z"
    }
   },
   "cell_type": "code",
   "source": "label_image_PML;\n",
   "id": "eb2a48620203496d",
   "outputs": [],
   "execution_count": 29
  },
  {
   "metadata": {
    "ExecuteTime": {
     "end_time": "2024-05-19T10:18:42.539299Z",
     "start_time": "2024-05-19T10:18:42.191569Z"
    }
   },
   "cell_type": "code",
   "source": [
    "# apply threshold on Nucleus\n",
    "thresh_Nuc = threshold_otsu(Nucleus_PML)\n",
    "bw_Nuc = closing(Nucleus_PML > thresh_Nuc, square(13))\n",
    "\n",
    "# remove artifacts connected to image border\n",
    "cleared = remove_small_objects(clear_border(bw_Nuc), 1500)\n",
    "\n",
    "# label image regions\n",
    "label_image_Nuc = label(cleared)\n",
    "\n",
    "# add the labels\n",
    "labels_layer = viewer.add_labels(label_image_Nuc, name='segmentation-Nucleus')\n",
    "viewer.add_image(Nucleus_PML, colormap='magma', name='Nuc')"
   ],
   "id": "5098b3abb9af42ff",
   "outputs": [
    {
     "data": {
      "text/plain": [
       "<Image layer 'Nuc' at 0x160286660>"
      ]
     },
     "execution_count": 30,
     "metadata": {},
     "output_type": "execute_result"
    }
   ],
   "execution_count": 30
  },
  {
   "metadata": {
    "ExecuteTime": {
     "end_time": "2024-05-19T10:18:43.926082Z",
     "start_time": "2024-05-19T10:18:43.921097Z"
    }
   },
   "cell_type": "code",
   "source": "Mask=viewer.layers[2].data",
   "id": "4620a26a3ee4d787",
   "outputs": [],
   "execution_count": 31
  },
  {
   "metadata": {
    "ExecuteTime": {
     "end_time": "2024-05-19T10:18:46.156918Z",
     "start_time": "2024-05-19T10:18:46.007390Z"
    }
   },
   "cell_type": "code",
   "source": [
    "Result_PML=Mask*PML; #unclear if it is required\n",
    "viewer.add_image(Result_PML)"
   ],
   "id": "31e4846a26b72ee3",
   "outputs": [
    {
     "data": {
      "text/plain": [
       "<Image layer 'Result_PML' at 0x166c05850>"
      ]
     },
     "execution_count": 32,
     "metadata": {},
     "output_type": "execute_result"
    }
   ],
   "execution_count": 32
  },
  {
   "metadata": {
    "ExecuteTime": {
     "end_time": "2024-05-19T10:18:50.663687Z",
     "start_time": "2024-05-19T10:18:47.952854Z"
    }
   },
   "cell_type": "code",
   "source": [
    "# Here is the generalized version \n",
    "import numpy as np\n",
    "import napari\n",
    "# Assuming you have loaded your Nucleus_PML image into Nucleus_PML\n",
    "\n",
    "# Get unique label values from the label image\n",
    "unique_labels = np.unique(label_image_Nuc)\n",
    "\n",
    "# Remove background label if exists\n",
    "unique_labels = unique_labels[unique_labels != 0]\n",
    "\n",
    "# Initialize a list to store extracted ROIs and corresponding results\n",
    "roi_list = []\n",
    "result_list = []\n",
    "\n",
    "# Extract each ROI by its label value and perform desired operation (multiplication with Nucleus_PML in this case)\n",
    "for label in unique_labels:\n",
    "    # Extract the ROI with the current label value\n",
    "    roi = np.where(label_image_Nuc == label, 1, 0)\n",
    "    roi_list.append(roi)\n",
    "    \n",
    "    # Perform desired operation on the ROI (e.g., multiplication with Nucleus_PML)\n",
    "    result_roi = Nucleus_PML * roi\n",
    "    result_list.append(result_roi)\n",
    "\n",
    "# Display each extracted ROI and result using napari\n",
    "viewer = napari.Viewer()\n",
    "for i, (roi, result_roi) in enumerate(zip(roi_list, result_list)):\n",
    "    viewer.add_image(roi, name=f'ROI_{unique_labels[i]}')\n",
    "    viewer.add_image(result_roi, name=f'Result_ROI_{unique_labels[i]}')\n",
    "\n",
    "#napari.run()"
   ],
   "id": "1d18a771fea47db4",
   "outputs": [],
   "execution_count": 33
  },
  {
   "metadata": {
    "ExecuteTime": {
     "end_time": "2024-05-19T10:20:09.519739Z",
     "start_time": "2024-05-19T10:20:08.349308Z"
    }
   },
   "cell_type": "code",
   "source": [
    "from skimage import measure\n",
    "import pandas as pd\n",
    "import matplotlib.pyplot as plt\n",
    "import numpy as np\n",
    "import seaborn as sns\n",
    "# Assuming you have loaded your label image into label_image_Nuc\n",
    "\n",
    "# Get unique label values from the label image\n",
    "unique_labels = np.unique(label_image_Nuc)\n",
    "\n",
    "# Remove background label if exists\n",
    "unique_labels = unique_labels[unique_labels != 0]\n",
    "\n",
    "# Initialize final_result Data Frame\n",
    "final_result=pd.DataFrame()\n",
    "\n",
    "# Extract each ROI by its label value and calculate region properties\n",
    "for label in unique_labels:\n",
    "    # Extract the ROI with the current label value\n",
    "    roi = np.where(label_image_Nuc == label, 1, 0)\n",
    "    \n",
    "    # Calculate the product with the PML intensity image\n",
    "    Product= roi*label_image_PML\n",
    "    \n",
    "    # Measure region properties\n",
    "    region_properties = measure.regionprops_table(Product, PML, properties=['area', 'mean_intensity'])\n",
    "    \n",
    "    # Create a DataFrame for the current region properties\n",
    "    df=pd.DataFrame(region_properties)\n",
    "    \n",
    "    # Add the nucleus label to the DataFrame\n",
    "    df['nucleus']=label\n",
    "    \n",
    "    # Append the current DataFrame to the final result\n",
    "    final_result=pd.concat([final_result,df])\n",
    "    \n",
    "# Define the pixel size and calculate the pixel area\n",
    "pix_size=6.45/63;\n",
    "pix_size_square = pix_size ** 2;\n",
    "\n",
    "# Multiply the 'area' column by the pixel size squared\n",
    "final_result['area'] = final_result['area'] * pix_size_square\n",
    "\n",
    "# Group by 'nucleus' and calculate the required statistics\n",
    "grouped = final_result.groupby('nucleus').agg(\n",
    "    occurrence=('nucleus', 'size'),           # Count the number of entries for each nucleus\n",
    "    mean_area=('area', 'mean'),               # Calculate the mean area for each nucleus\n",
    "    mean_intensity=('mean_intensity', 'mean') # Calculate the mean intensity for each nucleus\n",
    ").reset_index()\n",
    "\n",
    "# Merge the statistics back into the final_result DataFrame\n",
    "final_result = pd.merge(final_result, grouped, on='nucleus', how='left')\n",
    "\n",
    "# Print the final result\n",
    "print(final_result)\n",
    "\n",
    "# Create side-by-side swarmplots\n",
    "fig, axes = plt.subplots(1, 2, figsize=(16, 6))\n",
    "\n",
    "# Plot the number of PML bodies per nucleus\n",
    "sns.swarmplot(data=grouped, y='occurrence',x='nucleus', ax=axes[0])\n",
    "axes[0].set_title('Number of PML Bodies per Nucleus')\n",
    "axes[0].set_ylabel('Occurrence')\n",
    "axes[0].set_xlabel('Nucleus')\n",
    "\n",
    "# Plot the distribution of area of the entire population of PML bodies\n",
    "sns.swarmplot(data=final_result, y='area', ax=axes[1])\n",
    "axes[1].set_title('Distribution of Area of PML Bodies')\n",
    "axes[1].set_ylabel('Area')\n",
    "axes[1].set_xlabel('')\n",
    "\n",
    "plt.tight_layout()\n",
    "plt.show()"
   ],
   "id": "52ab82f2fdeafa20",
   "outputs": [
    {
     "name": "stdout",
     "output_type": "stream",
     "text": [
      "        area  mean_intensity_x  nucleus  occurrence  mean_area  \\\n",
      "0   0.167710       2202.062500        1           7   0.554041   \n",
      "1   0.566020       3148.611111        1           7   0.554041   \n",
      "2   0.702285       3175.626866        1           7   0.554041   \n",
      "3   0.754694       3487.069444        1           7   0.554041   \n",
      "4   0.744212       3279.394366        1           7   0.554041   \n",
      "5   0.754694       2336.291667        1           7   0.554041   \n",
      "6   0.188673       2377.222222        1           7   0.554041   \n",
      "7   0.482166       2292.760870        3           3   0.593972   \n",
      "8   0.597466       2982.421053        3           3   0.593972   \n",
      "9   0.702285       3238.432836        3           3   0.593972   \n",
      "10  1.194932       3131.166667        4           4   0.746832   \n",
      "11  0.503129       3398.520833        4           4   0.746832   \n",
      "12  0.576502       2156.472727        4           4   0.746832   \n",
      "13  0.712766       2664.044118        4           4   0.746832   \n",
      "14  0.136264       1901.846154        5           6   0.490900   \n",
      "15  0.199155       2338.315789        5           6   0.490900   \n",
      "16  0.398311       2425.631579        5           6   0.490900   \n",
      "17  0.513611       3187.959184        5           6   0.490900   \n",
      "18  1.132041       1662.888889        5           6   0.490900   \n",
      "19  0.566020       3250.462963        5           6   0.490900   \n",
      "\n",
      "    mean_intensity_y  \n",
      "0        2858.039739  \n",
      "1        2858.039739  \n",
      "2        2858.039739  \n",
      "3        2858.039739  \n",
      "4        2858.039739  \n",
      "5        2858.039739  \n",
      "6        2858.039739  \n",
      "7        2837.871586  \n",
      "8        2837.871586  \n",
      "9        2837.871586  \n",
      "10       2837.551086  \n",
      "11       2837.551086  \n",
      "12       2837.551086  \n",
      "13       2837.551086  \n",
      "14       2461.184093  \n",
      "15       2461.184093  \n",
      "16       2461.184093  \n",
      "17       2461.184093  \n",
      "18       2461.184093  \n",
      "19       2461.184093  \n"
     ]
    },
    {
     "data": {
      "text/plain": [
       "<Figure size 1600x600 with 2 Axes>"
      ],
      "image/png": "[encoded data removed]"
     },
     "metadata": {},
     "output_type": "display_data"
    }
   ],
   "execution_count": 38
  },
  {
   "metadata": {
    "ExecuteTime": {
     "end_time": "2024-05-19T09:27:40.837646Z",
     "start_time": "2024-05-19T09:27:40.818895Z"
    }
   },
   "cell_type": "code",
   "source": [
    "#The function final_result.groupby('nucleus').count() is used to group the rows of the DataFrame final_result by the values in the 'nucleus' column and then count the number of occurrences for each group. \n",
    "final_result.groupby('nucleus').count()"
   ],
   "id": "baa6c12ad17f7a60",
   "outputs": [
    {
     "data": {
      "text/plain": [
       "         area  mean_intensity_x  occurrence  mean_area  mean_intensity_y\n",
       "nucleus                                                                 \n",
       "1           7                 7           7          7                 7\n",
       "3           3                 3           3          3                 3\n",
       "4           4                 4           4          4                 4\n",
       "5           6                 6           6          6                 6"
      ],
      "text/html": [
       "<div>\n",
       "<style scoped>\n",
       "    .dataframe tbody tr th:only-of-type {\n",
       "        vertical-align: middle;\n",
       "    }\n",
       "\n",
       "    .dataframe tbody tr th {\n",
       "        vertical-align: top;\n",
       "    }\n",
       "\n",
       "    .dataframe thead th {\n",
       "        text-align: right;\n",
       "    }\n",
       "</style>\n",
       "<table border=\"1\" class=\"dataframe\">\n",
       "  <thead>\n",
       "    <tr style=\"text-align: right;\">\n",
       "      <th></th>\n",
       "      <th>area</th>\n",
       "      <th>mean_intensity_x</th>\n",
       "      <th>occurrence</th>\n",
       "      <th>mean_area</th>\n",
       "      <th>mean_intensity_y</th>\n",
       "    </tr>\n",
       "    <tr>\n",
       "      <th>nucleus</th>\n",
       "      <th></th>\n",
       "      <th></th>\n",
       "      <th></th>\n",
       "      <th></th>\n",
       "      <th></th>\n",
       "    </tr>\n",
       "  </thead>\n",
       "  <tbody>\n",
       "    <tr>\n",
       "      <th>1</th>\n",
       "      <td>7</td>\n",
       "      <td>7</td>\n",
       "      <td>7</td>\n",
       "      <td>7</td>\n",
       "      <td>7</td>\n",
       "    </tr>\n",
       "    <tr>\n",
       "      <th>3</th>\n",
       "      <td>3</td>\n",
       "      <td>3</td>\n",
       "      <td>3</td>\n",
       "      <td>3</td>\n",
       "      <td>3</td>\n",
       "    </tr>\n",
       "    <tr>\n",
       "      <th>4</th>\n",
       "      <td>4</td>\n",
       "      <td>4</td>\n",
       "      <td>4</td>\n",
       "      <td>4</td>\n",
       "      <td>4</td>\n",
       "    </tr>\n",
       "    <tr>\n",
       "      <th>5</th>\n",
       "      <td>6</td>\n",
       "      <td>6</td>\n",
       "      <td>6</td>\n",
       "      <td>6</td>\n",
       "      <td>6</td>\n",
       "    </tr>\n",
       "  </tbody>\n",
       "</table>\n",
       "</div>"
      ]
     },
     "execution_count": 34,
     "metadata": {},
     "output_type": "execute_result"
    }
   ],
   "execution_count": 34
  },
  {
   "metadata": {
    "ExecuteTime": {
     "end_time": "2024-05-19T10:20:24.533932Z",
     "start_time": "2024-05-19T10:20:23.533155Z"
    }
   },
   "cell_type": "code",
   "source": [
    "from skimage import io, img_as_float\n",
    "from skimage.color import gray2rgb\n",
    "\n",
    "# Assuming label_image_Nuc and label_image_PML are the images you want to overlay\n",
    "# For this example, let's assume these images are already loaded as numpy arrays\n",
    "\n",
    "# Convert the images to float type for proper overlay\n",
    "nucleus_image = img_as_float(label_image_Nuc)\n",
    "pml_image = img_as_float(label_image_PML)\n",
    "\n",
    "# Normalize the images to the range [0, 1]\n",
    "nucleus_image = (nucleus_image - nucleus_image.min()) / (nucleus_image.max() - nucleus_image.min())\n",
    "pml_image = (pml_image - pml_image.min()) / (pml_image.max() - pml_image.min())\n",
    "\n",
    "# Convert grayscale images to RGB\n",
    "nucleus_rgb = gray2rgb(nucleus_image)\n",
    "pml_rgb = gray2rgb(pml_image)\n",
    "\n",
    "# Create an overlay image\n",
    "# Assuming you want nucleus in red and PML in green\n",
    "overlay_image = nucleus_rgb.copy()\n",
    "overlay_image[..., 0] = nucleus_image  # Red channel\n",
    "overlay_image[..., 1] = pml_image      # Green channel\n",
    "overlay_image[..., 2] = 0              # Blue channel remains 0\n",
    "\n",
    "# Display the images\n",
    "fig, axes = plt.subplots(1, 3, figsize=(18, 6))\n",
    "\n",
    "axes[0].imshow(nucleus_image, cmap='gray')\n",
    "axes[0].set_title('Nucleus Image')\n",
    "axes[0].axis('off')\n",
    "\n",
    "axes[1].imshow(pml_image, cmap='gray')\n",
    "axes[1].set_title('PML Image')\n",
    "axes[1].axis('off')\n",
    "\n",
    "axes[2].imshow(overlay_image)\n",
    "axes[2].set_title('Overlay Image')\n",
    "axes[2].axis('off')\n",
    "\n",
    "plt.tight_layout()\n",
    "plt.show()"
   ],
   "id": "819647248011f1b3",
   "outputs": [
    {
     "data": {
      "text/plain": [
       "<Figure size 1800x600 with 3 Axes>"
      ],
      "image/png": "[encoded data removed]"
     },
     "metadata": {},
     "output_type": "display_data"
    }
   ],
   "execution_count": 40
  },
  {
   "metadata": {},
   "cell_type": "code",
   "outputs": [],
   "execution_count": null,
   "source": "",
   "id": "30075c94011724e1"
  }
 ],
 "metadata": {
  "kernelspec": {
   "display_name": "Python 3",
   "language": "python",
   "name": "python3"
  },
  "language_info": {
   "codemirror_mode": {
    "name": "ipython",
    "version": 2
   },
   "file_extension": ".py",
   "mimetype": "text/x-python",
   "name": "python",
   "nbconvert_exporter": "python",
   "pygments_lexer": "ipython2",
   "version": "2.7.6"
  }
 },
 "nbformat": 4,
 "nbformat_minor": 5
}
