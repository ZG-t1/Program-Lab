{
 "cells": [
  {
   "cell_type": "code",
   "execution_count": null,
   "id": "a4a4603f",
   "metadata": {},
   "outputs": [],
   "source": [
    "from skimage.io import imread"
   ]
  }
 ],
 "metadata": {
  "jupytext": {
   "cell_metadata_filter": "-all",
   "main_language": "python",
   "notebook_metadata_filter": "-all"
  }
 },
 "nbformat": 4,
 "nbformat_minor": 5
}