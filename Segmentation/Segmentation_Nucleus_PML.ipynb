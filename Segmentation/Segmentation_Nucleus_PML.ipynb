{
 "cells": [
  {
   "cell_type": "code",
   "id": "initial_id",
   "metadata": {
    "collapsed": true,
    "ExecuteTime": {
     "end_time": "2024-05-01T15:51:23.490427Z",
     "start_time": "2024-05-01T15:51:23.433047Z"
    }
   },
   "source": [
    "# Basic segmentation based on otsu\n",
    "# Here the idea is to select sub-Roi and apply basic counting on each\n",
    "# import sample data\n",
    "import os\n",
    "import skimage as ski\n",
    "filename_Nuc = os.path.join(ski.data_dir, '/Users/zg/Mammouth/PROJECTS/Analysis/Image_Choice/MAX_PMLwt_20_MMStack_Pos0.ome-1-Nuc.tif')\n",
    "Nucleus_PML = ski.io.imread(filename_Nuc)\n",
    "\n",
    "filename_PML = os.path.join(ski.data_dir, '/Users/zg/Mammouth/PROJECTS/Analysis/Image_Choice/MAX_PMLwt_20_MMStack_Pos0.ome-1-PML.tif')\n",
    "PML = ski.io.imread(filename_PML)\n"
   ],
   "outputs": [],
   "execution_count": 16
  },
  {
   "metadata": {
    "ExecuteTime": {
     "end_time": "2024-05-01T15:51:25.866490Z",
     "start_time": "2024-05-01T15:51:24.385543Z"
    }
   },
   "cell_type": "code",
   "source": [
    "import napari\n",
    "\n",
    "# create a `Viewer` and `Image` layer in Napari\n",
    "viewer = napari.Viewer()\n",
    "viewer.add_image(Nucleus_PML, colormap='blue', name='Nucleus PML')\n",
    "viewer.add_image(PML, colormap='magma', name='PML')"
   ],
   "id": "7d1b33994e44dd10",
   "outputs": [
    {
     "data": {
      "text/plain": [
       "<Image layer 'PML' at 0x163535760>"
      ]
     },
     "execution_count": 17,
     "metadata": {},
     "output_type": "execute_result"
    }
   ],
   "execution_count": 17
  },
  {
   "metadata": {
    "ExecuteTime": {
     "end_time": "2024-05-01T15:51:26.105687Z",
     "start_time": "2024-05-01T15:51:25.868911Z"
    }
   },
   "cell_type": "code",
   "source": [
    "#segmentation using otsu\n",
    "from skimage import data\n",
    "from skimage.filters import threshold_otsu\n",
    "from skimage.segmentation import clear_border\n",
    "from skimage.measure import label\n",
    "from skimage.morphology import closing, square, remove_small_objects\n",
    "\n",
    "# apply threshold on PML bodies\n",
    "thresh_PML = threshold_otsu(PML)\n",
    "bw_PML = closing(PML > thresh_PML, square(5))\n",
    "\n",
    "# remove artifacts connected to image border\n",
    "cleared = remove_small_objects(clear_border(bw_PML), 10)\n",
    "\n",
    "# label image regions\n",
    "label_image_PML = label(cleared)\n",
    "\n",
    "# add the labels\n",
    "labels_layer = viewer.add_labels(label_image_PML, name='segmentation-PML')"
   ],
   "id": "f309ffdd8fe8b162",
   "outputs": [],
   "execution_count": 18
  },
  {
   "metadata": {
    "ExecuteTime": {
     "end_time": "2024-05-01T15:51:26.345616Z",
     "start_time": "2024-05-01T15:51:26.107438Z"
    }
   },
   "cell_type": "code",
   "source": [
    "# apply threshold on Nucleus\n",
    "thresh_Nuc = threshold_otsu(Nucleus_PML)\n",
    "bw_Nuc = closing(Nucleus_PML > thresh_Nuc, square(13))\n",
    "\n",
    "# remove artifacts connected to image border\n",
    "cleared = remove_small_objects(clear_border(bw_Nuc), 10)\n",
    "\n",
    "# label image regions\n",
    "label_image_Nuc = label(cleared)\n",
    "\n",
    "# add the labels\n",
    "labels_layer = viewer.add_labels(label_image_Nuc, name='segmentation-Nucleus')\n"
   ],
   "id": "5098b3abb9af42ff",
   "outputs": [],
   "execution_count": 19
  },
  {
   "metadata": {
    "ExecuteTime": {
     "end_time": "2024-05-01T15:51:26.587950Z",
     "start_time": "2024-05-01T15:51:26.579272Z"
    }
   },
   "cell_type": "code",
   "source": "Mask=viewer.layers[2].data",
   "id": "4620a26a3ee4d787",
   "outputs": [],
   "execution_count": 20
  },
  {
   "metadata": {
    "ExecuteTime": {
     "end_time": "2024-05-01T15:51:27.582796Z",
     "start_time": "2024-05-01T15:51:27.427543Z"
    }
   },
   "cell_type": "code",
   "source": [
    "Result_PML=Mask*PML; #unclear if it is required\n",
    "viewer.add_image(Result_PML)"
   ],
   "id": "31e4846a26b72ee3",
   "outputs": [
    {
     "data": {
      "text/plain": [
       "<Image layer 'Result_PML' at 0x169e888c0>"
      ]
     },
     "execution_count": 21,
     "metadata": {},
     "output_type": "execute_result"
    }
   ],
   "execution_count": 21
  },
  {
   "metadata": {
    "ExecuteTime": {
     "end_time": "2024-05-01T15:53:33.616632Z",
     "start_time": "2024-05-01T15:53:32.617721Z"
    }
   },
   "cell_type": "code",
   "source": [
    "#Here I want to extract only one of the selected label image from label_image_Nuc\n",
    "\n",
    "import numpy as np\n",
    "\n",
    "#Specify the label value of the ROI you want to extract\n",
    "Mask_Nuc_label = 4  # the label value of your desired ROI\n",
    "\n",
    "# Extract the ROI with the specified label value\n",
    "roi_Mask_Nuc = np.where(label_image_Nuc == Mask_Nuc_label , 1, 0)\n",
    "Result_Selected_roi_Nuc=Nucleus_PML*roi_Mask_Nuc;\n",
    "# Display the extracted ROI using napari\n",
    "viewer = napari.Viewer()\n",
    "viewer.add_image(roi_Mask_Nuc, name='roi_Mask_Nuc')\n",
    "viewer.add_image(Result_Selected_roi_Nuc, name='Result_Selected_roi_Nuc')\n",
    "napari.run()"
   ],
   "id": "4b9473e809817b8c",
   "outputs": [],
   "execution_count": 24
  },
  {
   "metadata": {
    "ExecuteTime": {
     "end_time": "2024-05-01T15:54:47.949424Z",
     "start_time": "2024-05-01T15:54:47.529746Z"
    }
   },
   "cell_type": "code",
   "source": [
    "import numpy as np\n",
    "\n",
    "#Specify the label value of the ROI you want to extract\n",
    "Mask_PML_label = 4  # the label value of your desired ROI\n",
    "\n",
    "# Extract the ROI with the specified label value\n",
    "roi_Mask_PML = np.where(label_image_PML == Mask_PML_label , 1, 0)\n",
    "Result_Selected_roi_PML=PML*roi_Mask_PML;\n",
    "# Display the extracted ROI using napari\n",
    "viewer.add_image(roi_Mask_PML, name='roi_Mask_PML')\n",
    "viewer.add_image(Result_Selected_roi_PML, name='Result_Selected_roi_PML')"
   ],
   "id": "8148a76d7b7925bb",
   "outputs": [
    {
     "data": {
      "text/plain": [
       "<Image layer 'Result_Selected_roi_PML' at 0x1677bbd10>"
      ]
     },
     "execution_count": 25,
     "metadata": {},
     "output_type": "execute_result"
    }
   ],
   "execution_count": 25
  },
  {
   "metadata": {},
   "cell_type": "code",
   "source": [
    "#Particle analysis on PML on a sub-Roi called roi_Mask_Nuc\n",
    "#from skimage import measure\n",
    "#import pandas as pd\n",
    "#\n",
    "#region_properties_sub_roi_PML = measure.regionprops_table(roi_Mask_Nuc, PML, properties=['area', 'intensity_mean'])\n",
    "#pd.DataFrame(region_properties_sub_roi_PML)\n"
   ],
   "id": "bb42976dc027005",
   "outputs": [],
   "execution_count": null
  },
  {
   "metadata": {
    "ExecuteTime": {
     "end_time": "2024-05-01T15:51:35.714619Z",
     "start_time": "2024-05-01T15:51:35.702342Z"
    }
   },
   "cell_type": "code",
   "source": [
    "#Particle analysis on PML\n",
    "from skimage import measure\n",
    "import pandas as pd\n",
    "\n",
    "#Result_PML or PML is enough ?\n",
    "region_properties_PML = measure.regionprops_table(label_image_PML, Result_PML, properties=['area', 'intensity_mean'])\n",
    "#pd.DataFrame(region_properties_PML);"
   ],
   "id": "fd05caece076ef1",
   "outputs": [],
   "execution_count": 22
  },
  {
   "metadata": {},
   "cell_type": "code",
   "source": "",
   "id": "d12d4283c2380c85",
   "outputs": [],
   "execution_count": null
  },
  {
   "metadata": {},
   "cell_type": "code",
   "source": [
    "#Result_PML or PML is enough ?\n",
    "region_properties_Nuc = measure.regionprops_table(label_image_Nuc, Nucleus_PML, properties=['area', 'intensity_mean'])\n",
    "#pd.DataFrame(region_properties_Nuc);"
   ],
   "id": "787cd546412acb84",
   "outputs": [],
   "execution_count": null
  },
  {
   "metadata": {},
   "cell_type": "code",
   "source": [
    "import pandas as pd\n",
    "import seaborn as sns\n",
    "import matplotlib.pyplot as plt\n",
    "\n",
    "# Convert the dictionaries to pandas DataFrames\n",
    "regionNuc_df = pd.DataFrame(region_properties_Nuc)\n",
    "regionPML_df = pd.DataFrame(region_properties_PML)\n",
    "\n",
    "# Melt the DataFrames to reshape them for plotting\n",
    "meltedNuc_df = regionNuc_df.melt(var_name='Property', value_name='Value')\n",
    "meltedPML_df = regionPML_df.melt(var_name='Property', value_name='Value')\n",
    "\n",
    "# Combine the melted DataFrames into a single DataFrame\n",
    "combined_df = pd.concat([meltedNuc_df, meltedPML_df])\n",
    "\n",
    "# Add a column to indicate the source of the data (Nucleus or PML)\n",
    "combined_df['Source'] = ['Nucleus'] * len(meltedNuc_df) + ['PML'] * len(meltedPML_df)\n",
    "\n",
    "# Create a violin plot with separate subplots for each property\n",
    "plt.figure(figsize=(10, 6))\n",
    "sns.violinplot(x='Source', y='Value', hue='Property', data=combined_df, split=True)\n",
    "\n",
    "# Add labels and title\n",
    "plt.xlabel('Source')\n",
    "plt.ylabel('Value')\n",
    "plt.title('Violin Plot of Region Properties')\n",
    "\n",
    "plt.show()"
   ],
   "id": "2dfe7f1b18f172f5",
   "outputs": [],
   "execution_count": null
  },
  {
   "metadata": {},
   "cell_type": "code",
   "source": [
    "# Convert the dictionaries to pandas DataFrames\n",
    "regionNuc_df = pd.DataFrame(region_properties_Nuc)\n",
    "regionPML_df = pd.DataFrame(region_properties_PML)\n",
    "\n",
    "# Create a scatter plot for the nucleus data\n",
    "plt.figure(figsize=(10, 6))\n",
    "sns.scatterplot(x='area', y='intensity_mean', data=regionNuc_df, label='Nucleus Size')\n",
    "sns.scatterplot(x='area', y='intensity_mean', data=regionNuc_df, label='Nucleus Intensity')\n",
    "plt.xlabel('Size')\n",
    "plt.ylabel('Intensity')\n",
    "plt.title('Scatter Plot of Nucleus Properties')\n",
    "plt.legend()\n",
    "\n",
    "# Create a scatter plot for the PML data\n",
    "plt.figure(figsize=(10, 6))\n",
    "sns.scatterplot(x='area', y='intensity_mean', data=regionPML_df, label='PML Size')\n",
    "#sns.scatterplot(x='area', y='intensity_mean', data=regionPML_df, label='PML Intensity')\n",
    "plt.xlabel('Size')\n",
    "plt.ylabel('Intensity')\n",
    "plt.title('Scatter Plot of PML Properties')\n",
    "plt.legend()\n",
    "\n",
    "plt.show()\n"
   ],
   "id": "9ed66a7a07720e6f",
   "outputs": [],
   "execution_count": null
  },
  {
   "metadata": {},
   "cell_type": "code",
   "source": "",
   "id": "88a0a41382c210dc",
   "outputs": [],
   "execution_count": null
  },
  {
   "metadata": {},
   "cell_type": "code",
   "source": "",
   "id": "df9b8a0ab4fac61a",
   "outputs": [],
   "execution_count": null
  },
  {
   "metadata": {},
   "cell_type": "code",
   "source": [
    "#Blob detection applied to PML bodies\n",
    "\n",
    "from math import sqrt\n",
    "from skimage import data\n",
    "from skimage.feature import blob_dog, blob_log, blob_doh\n",
    "from skimage.color import rgb2gray\n",
    "\n",
    "import matplotlib.pyplot as plt\n",
    "\n",
    "\n",
    "\n",
    "blobs_log = blob_log(PML, max_sigma=30, num_sigma=10, threshold=0.5)\n",
    "\n",
    "# Compute radii in the 3rd column.\n",
    "blobs_log[:, 2] = blobs_log[:, 2] * sqrt(2)\n",
    "\n",
    "blobs_dog = blob_dog(PML, max_sigma=30, threshold=0.1)\n",
    "blobs_dog[:, 2] = blobs_dog[:, 2] * sqrt(2)\n",
    "\n",
    "blobs_doh = blob_doh(PML, max_sigma=30, threshold=0.01)\n",
    "\n",
    "blobs_list = [blobs_log, blobs_dog, blobs_doh]\n",
    "colors = ['yellow', 'lime', 'red']\n",
    "titles = ['Laplacian of Gaussian', 'Difference of Gaussian', 'Determinant of Hessian']\n",
    "sequence = zip(blobs_list, colors, titles)\n",
    "\n",
    "fig, axes = plt.subplots(1, 3, figsize=(9, 3), sharex=True, sharey=True)\n",
    "ax = axes.ravel()\n",
    "\n",
    "for idx, (blobs, color, title) in enumerate(sequence):\n",
    "    ax[idx].set_title(title)\n",
    "    ax[idx].imshow(PML)\n",
    "    for blob in blobs:\n",
    "        y, x, r = blob\n",
    "        c = plt.Circle((x, y), r, color=color, linewidth=2, fill=False)\n",
    "        ax[idx].add_patch(c)\n",
    "    ax[idx].set_axis_off()\n",
    "\n",
    "plt.tight_layout()\n",
    "plt.show()"
   ],
   "id": "b016b1231d150141",
   "outputs": [],
   "execution_count": null
  },
  {
   "metadata": {},
   "cell_type": "code",
   "source": "",
   "id": "efacc6200e75026b",
   "outputs": [],
   "execution_count": null
  },
  {
   "metadata": {},
   "cell_type": "code",
   "source": "",
   "id": "efe0fe49c83f9ea3",
   "outputs": [],
   "execution_count": null
  }
 ],
 "metadata": {
  "kernelspec": {
   "display_name": "Python 3",
   "language": "python",
   "name": "python3"
  },
  "language_info": {
   "codemirror_mode": {
    "name": "ipython",
    "version": 2
   },
   "file_extension": ".py",
   "mimetype": "text/x-python",
   "name": "python",
   "nbconvert_exporter": "python",
   "pygments_lexer": "ipython2",
   "version": "2.7.6"
  }
 },
 "nbformat": 4,
 "nbformat_minor": 5
}
